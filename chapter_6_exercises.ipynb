{
 "cells": [
  {
   "cell_type": "markdown",
   "metadata": {
    "deletable": true,
    "editable": true
   },
   "source": [
    "__Exercise 1__"
   ]
  },
  {
   "cell_type": "code",
   "execution_count": 1,
   "metadata": {
    "collapsed": true,
    "deletable": true,
    "editable": true,
    "scrolled": true
   },
   "outputs": [],
   "source": [
    "# MACHINE TRANSLATION:\n",
    "# see e.g. http://www.aclweb.org/anthology/R11-1077, https://nlp.stanford.edu/courses/cs224n/2010/reports/bipins.pdf\n",
    "# data: parallel corpora, aligned at sentence level (automatically or manually)\n",
    "# size: usually assumed the larger the better, 2nd paper: 100,00 documents\n",
    "# reasons for large amount: probability that a word or combination of words has been seen during training increases"
   ]
  },
  {
   "cell_type": "markdown",
   "metadata": {
    "deletable": true,
    "editable": true
   },
   "source": [
    "__Exercise 2__"
   ]
  },
  {
   "cell_type": "code",
   "execution_count": 2,
   "metadata": {
    "collapsed": false,
    "deletable": true,
    "editable": true
   },
   "outputs": [
    {
     "name": "stdout",
     "output_type": "stream",
     "text": [
      "0.778\n"
     ]
    }
   ],
   "source": [
    "import nltk\n",
    "from nltk.corpus import names\n",
    "import random\n",
    "names = ([(name, 'male') for name in names.words('male.txt')] + [(name, 'female') for name in names.words('female.txt')])\n",
    "random.shuffle(names)\n",
    "test, devtest, training = names[:500], names[500:1000], names[1000:]\n",
    "\n",
    "def gender_features1(name):\n",
    "    features = {}\n",
    "    features[\"firstletter\"] = name[0].lower()\n",
    "    features[\"lastletter\"] = name[-1].lower()\n",
    "    for letter in 'abcdefghijklmnopqrstuvwxyz':\n",
    "        features[\"count(%s)\" % letter] = name.lower().count(letter)\n",
    "        features[\"has(%s)\" % letter] = (letter in name.lower())\n",
    "    features[\"suffix2\"] = name[-2:].lower()\n",
    "    return features\n",
    "\n",
    "train_set = [(gender_features1(n), g) for (n,g) in training]\n",
    "devtest_set = [(gender_features1(n), g) for (n,g) in devtest]\n",
    "classifier = nltk.NaiveBayesClassifier.train(train_set)\n",
    "print nltk.classify.accuracy(classifier, devtest_set)"
   ]
  },
  {
   "cell_type": "code",
   "execution_count": 3,
   "metadata": {
    "collapsed": false,
    "deletable": true,
    "editable": true
   },
   "outputs": [
    {
     "name": "stdout",
     "output_type": "stream",
     "text": [
      "no. of errors:  111\n",
      "correct=female   guess=male     name=Ardyth                        \n",
      "correct=female   guess=male     name=Birgit                        \n",
      "correct=female   guess=male     name=Clio                          \n",
      "correct=female   guess=male     name=Cody                          \n",
      "correct=female   guess=male     name=Cristen                       \n",
      "correct=female   guess=male     name=Cyb                           \n",
      "correct=female   guess=male     name=Dagmar                        \n",
      "correct=female   guess=male     name=Del                           \n",
      "correct=female   guess=male     name=Dion                          \n",
      "correct=female   guess=male     name=Dolores                       \n",
      "correct=female   guess=male     name=Doralin                       \n",
      "correct=female   guess=male     name=Dorcas                        \n",
      "correct=female   guess=male     name=Dorthy                        \n",
      "correct=female   guess=male     name=Estel                         \n",
      "correct=female   guess=male     name=Farand                        \n",
      "correct=female   guess=male     name=Farrand                       \n",
      "correct=female   guess=male     name=Francis                       \n",
      "correct=female   guess=male     name=Gertrud                       \n",
      "correct=female   guess=male     name=Guenevere                     \n",
      "correct=female   guess=male     name=Hedy                          \n",
      "correct=female   guess=male     name=Honor                         \n",
      "correct=female   guess=male     name=Imogen                        \n",
      "correct=female   guess=male     name=Isobel                        \n",
      "correct=female   guess=male     name=Jennifer                      \n",
      "correct=female   guess=male     name=Joannes                       \n",
      "correct=female   guess=male     name=Joey                          \n",
      "correct=female   guess=male     name=Jojo                          \n",
      "correct=female   guess=male     name=Joyous                        \n",
      "correct=female   guess=male     name=Juliet                        \n",
      "correct=female   guess=male     name=Kerrin                        \n",
      "correct=female   guess=male     name=Kristin                       \n",
      "correct=female   guess=male     name=Lilas                         \n",
      "correct=female   guess=male     name=Love                          \n",
      "correct=female   guess=male     name=Mab                           \n",
      "correct=female   guess=male     name=Margo                         \n",
      "correct=female   guess=male     name=Margot                        \n",
      "correct=female   guess=male     name=Mariam                        \n",
      "correct=female   guess=male     name=Marj                          \n",
      "correct=female   guess=male     name=Max                           \n",
      "correct=female   guess=male     name=Meg                           \n",
      "correct=female   guess=male     name=Modesty                       \n",
      "correct=female   guess=male     name=Pearl                         \n",
      "correct=female   guess=male     name=Phebe                         \n",
      "correct=female   guess=male     name=Philly                        \n",
      "correct=female   guess=male     name=Phylis                        \n",
      "correct=female   guess=male     name=Rey                           \n",
      "correct=female   guess=male     name=Rosaleen                      \n",
      "correct=female   guess=male     name=Shamit                        \n",
      "correct=female   guess=male     name=Shir                          \n",
      "correct=female   guess=male     name=Sidoney                       \n",
      "correct=female   guess=male     name=Sioux                         \n",
      "correct=female   guess=male     name=Stephie                       \n",
      "correct=female   guess=male     name=Sunny                         \n",
      "correct=female   guess=male     name=Tarrah                        \n",
      "correct=female   guess=male     name=Tildy                         \n",
      "correct=female   guess=male     name=Tomiko                        \n",
      "correct=female   guess=male     name=Veronique                     \n",
      "correct=female   guess=male     name=Wynne                         \n",
      "correct=female   guess=male     name=Wynnie                        \n",
      "correct=male     guess=female   name=Abdullah                      \n",
      "correct=male     guess=female   name=Alaa                          \n",
      "correct=male     guess=female   name=Allie                         \n",
      "correct=male     guess=female   name=Averell                       \n",
      "correct=male     guess=female   name=Avi                           \n",
      "correct=male     guess=female   name=Barnie                        \n",
      "correct=male     guess=female   name=Bela                          \n",
      "correct=male     guess=female   name=Bradley                       \n",
      "correct=male     guess=female   name=Cammy                         \n",
      "correct=male     guess=female   name=Chrisy                        \n",
      "correct=male     guess=female   name=Claire                        \n",
      "correct=male     guess=female   name=Dante                         \n",
      "correct=male     guess=female   name=Dean                          \n",
      "correct=male     guess=female   name=Demetre                       \n",
      "correct=male     guess=female   name=Eli                           \n",
      "correct=male     guess=female   name=Emery                         \n",
      "correct=male     guess=female   name=Emile                         \n",
      "correct=male     guess=female   name=Etienne                       \n",
      "correct=male     guess=female   name=Felice                        \n",
      "correct=male     guess=female   name=Grace                         \n",
      "correct=male     guess=female   name=Hezekiah                      \n",
      "correct=male     guess=female   name=Iggie                         \n",
      "correct=male     guess=female   name=Ike                           \n",
      "correct=male     guess=female   name=Ikey                          \n",
      "correct=male     guess=female   name=Ivan                          \n",
      "correct=male     guess=female   name=Jude                          \n",
      "correct=male     guess=female   name=Kane                          \n",
      "correct=male     guess=female   name=Keenan                        \n",
      "correct=male     guess=female   name=Keil                          \n",
      "correct=male     guess=female   name=Kevan                         \n",
      "correct=male     guess=female   name=Laurence                      \n",
      "correct=male     guess=female   name=Laurie                        \n",
      "correct=male     guess=female   name=Luce                          \n",
      "correct=male     guess=female   name=Marty                         \n",
      "correct=male     guess=female   name=Martyn                        \n",
      "correct=male     guess=female   name=Mikael                        \n",
      "correct=male     guess=female   name=Mitchel                       \n",
      "correct=male     guess=female   name=Monte                         \n",
      "correct=male     guess=female   name=Nathan                        \n",
      "correct=male     guess=female   name=Nevin                         \n",
      "correct=male     guess=female   name=Noah                          \n",
      "correct=male     guess=female   name=Normie                        \n",
      "correct=male     guess=female   name=Pierce                        \n",
      "correct=male     guess=female   name=Pierre                        \n",
      "correct=male     guess=female   name=Ritchie                       \n",
      "correct=male     guess=female   name=Salman                        \n",
      "correct=male     guess=female   name=Shane                         \n",
      "correct=male     guess=female   name=Spense                        \n",
      "correct=male     guess=female   name=Tanny                         \n",
      "correct=male     guess=female   name=Tate                          \n",
      "correct=male     guess=female   name=Wallie                        \n",
      "correct=male     guess=female   name=Yankee                        \n"
     ]
    }
   ],
   "source": [
    "def error_analysis(gender_features):\n",
    "    errors = []\n",
    "    for (name, tag) in devtest:\n",
    "        guess = classifier.classify(gender_features(name))\n",
    "        if guess != tag:\n",
    "            errors.append((tag, guess, name))\n",
    "    print 'no. of errors: ', len(errors)        \n",
    "        \n",
    "    for (tag, guess, name) in sorted(errors): # doctest: +ELLIPSIS +NORMALIZE_WHITESPACE\n",
    "        print 'correct=%-8s guess=%-8s name=%-30s' % (tag, guess, name)        \n",
    "        \n",
    "error_analysis(gender_features1)        "
   ]
  },
  {
   "cell_type": "code",
   "execution_count": 4,
   "metadata": {
    "collapsed": false,
    "deletable": true,
    "editable": true
   },
   "outputs": [
    {
     "name": "stdout",
     "output_type": "stream",
     "text": [
      "0.806\n"
     ]
    }
   ],
   "source": [
    "def gender_features2(name):\n",
    "    features = {}\n",
    "    features[\"firstletter\"] = name[0].lower()\n",
    "    features[\"lastletter\"] = name[-1].lower()\n",
    "    for letter in 'abcdefghijklmnopqrstuvwxyz':\n",
    "        features[\"count(%s)\" % letter] = name.lower().count(letter)\n",
    "        features[\"has(%s)\" % letter] = (letter in name.lower())\n",
    "    features[\"suffix2\"] = name[-2:].lower()\n",
    "    features[\"suffix3\"] = name[-3:].lower()\n",
    "    return features\n",
    "\n",
    "train_set = [(gender_features2(n), g) for (n,g) in training]\n",
    "devtest_set = [(gender_features2(n), g) for (n,g) in devtest]\n",
    "classifier = nltk.NaiveBayesClassifier.train(train_set)\n",
    "print nltk.classify.accuracy(classifier, devtest_set)"
   ]
  },
  {
   "cell_type": "code",
   "execution_count": 5,
   "metadata": {
    "collapsed": false,
    "deletable": true,
    "editable": true
   },
   "outputs": [
    {
     "name": "stdout",
     "output_type": "stream",
     "text": [
      "no. of errors:  97\n",
      "correct=female   guess=male     name=Birgit                        \n",
      "correct=female   guess=male     name=Cecil                         \n",
      "correct=female   guess=male     name=Clio                          \n",
      "correct=female   guess=male     name=Cody                          \n",
      "correct=female   guess=male     name=Cristen                       \n",
      "correct=female   guess=male     name=Cyb                           \n",
      "correct=female   guess=male     name=Cybill                        \n",
      "correct=female   guess=male     name=Dagmar                        \n",
      "correct=female   guess=male     name=Del                           \n",
      "correct=female   guess=male     name=Dion                          \n",
      "correct=female   guess=male     name=Dolores                       \n",
      "correct=female   guess=male     name=Dorcas                        \n",
      "correct=female   guess=male     name=Dorthy                        \n",
      "correct=female   guess=male     name=Emmey                         \n",
      "correct=female   guess=male     name=Estel                         \n",
      "correct=female   guess=male     name=Farand                        \n",
      "correct=female   guess=male     name=Farrand                       \n",
      "correct=female   guess=male     name=Francis                       \n",
      "correct=female   guess=male     name=Gabriell                      \n",
      "correct=female   guess=male     name=Gertrud                       \n",
      "correct=female   guess=male     name=Guenevere                     \n",
      "correct=female   guess=male     name=Hedy                          \n",
      "correct=female   guess=male     name=Honor                         \n",
      "correct=female   guess=male     name=Imogen                        \n",
      "correct=female   guess=male     name=Jennifer                      \n",
      "correct=female   guess=male     name=Joannes                       \n",
      "correct=female   guess=male     name=Joey                          \n",
      "correct=female   guess=male     name=Jojo                          \n",
      "correct=female   guess=male     name=Joly                          \n",
      "correct=female   guess=male     name=Joyous                        \n",
      "correct=female   guess=male     name=Juliet                        \n",
      "correct=female   guess=male     name=Kerrin                        \n",
      "correct=female   guess=male     name=Kristen                       \n",
      "correct=female   guess=male     name=Kristin                       \n",
      "correct=female   guess=male     name=Lilas                         \n",
      "correct=female   guess=male     name=Love                          \n",
      "correct=female   guess=male     name=Mab                           \n",
      "correct=female   guess=male     name=Margo                         \n",
      "correct=female   guess=male     name=Margot                        \n",
      "correct=female   guess=male     name=Mariam                        \n",
      "correct=female   guess=male     name=Marj                          \n",
      "correct=female   guess=male     name=Max                           \n",
      "correct=female   guess=male     name=Meg                           \n",
      "correct=female   guess=male     name=Modesty                       \n",
      "correct=female   guess=male     name=Pearl                         \n",
      "correct=female   guess=male     name=Phebe                         \n",
      "correct=female   guess=male     name=Phylis                        \n",
      "correct=female   guess=male     name=Rey                           \n",
      "correct=female   guess=male     name=Shamit                        \n",
      "correct=female   guess=male     name=Shir                          \n",
      "correct=female   guess=male     name=Sidoney                       \n",
      "correct=female   guess=male     name=Sioux                         \n",
      "correct=female   guess=male     name=Sunny                         \n",
      "correct=female   guess=male     name=Tomiko                        \n",
      "correct=female   guess=male     name=Veronique                     \n",
      "correct=female   guess=male     name=Wynnie                        \n",
      "correct=male     guess=female   name=Abdullah                      \n",
      "correct=male     guess=female   name=Alaa                          \n",
      "correct=male     guess=female   name=Allie                         \n",
      "correct=male     guess=female   name=Averell                       \n",
      "correct=male     guess=female   name=Avi                           \n",
      "correct=male     guess=female   name=Barnie                        \n",
      "correct=male     guess=female   name=Bela                          \n",
      "correct=male     guess=female   name=Cammy                         \n",
      "correct=male     guess=female   name=Chrisy                        \n",
      "correct=male     guess=female   name=Claire                        \n",
      "correct=male     guess=female   name=Dante                         \n",
      "correct=male     guess=female   name=Dean                          \n",
      "correct=male     guess=female   name=Eli                           \n",
      "correct=male     guess=female   name=Emile                         \n",
      "correct=male     guess=female   name=Etienne                       \n",
      "correct=male     guess=female   name=Felice                        \n",
      "correct=male     guess=female   name=Heath                         \n",
      "correct=male     guess=female   name=Iggie                         \n",
      "correct=male     guess=female   name=Ike                           \n",
      "correct=male     guess=female   name=Jude                          \n",
      "correct=male     guess=female   name=Kane                          \n",
      "correct=male     guess=female   name=Keenan                        \n",
      "correct=male     guess=female   name=Keil                          \n",
      "correct=male     guess=female   name=Laurence                      \n",
      "correct=male     guess=female   name=Laurie                        \n",
      "correct=male     guess=female   name=Luce                          \n",
      "correct=male     guess=female   name=Marty                         \n",
      "correct=male     guess=female   name=Martyn                        \n",
      "correct=male     guess=female   name=Meredith                      \n",
      "correct=male     guess=female   name=Mikael                        \n",
      "correct=male     guess=female   name=Monte                         \n",
      "correct=male     guess=female   name=Morly                         \n",
      "correct=male     guess=female   name=Normie                        \n",
      "correct=male     guess=female   name=Ritchie                       \n",
      "correct=male     guess=female   name=Shane                         \n",
      "correct=male     guess=female   name=Spense                        \n",
      "correct=male     guess=female   name=Tanny                         \n",
      "correct=male     guess=female   name=Tate                          \n",
      "correct=male     guess=female   name=Wallie                        \n",
      "correct=male     guess=female   name=Wayne                         \n",
      "correct=male     guess=female   name=Yankee                        \n"
     ]
    }
   ],
   "source": [
    "error_analysis(gender_features2)"
   ]
  },
  {
   "cell_type": "code",
   "execution_count": 6,
   "metadata": {
    "collapsed": false,
    "deletable": true,
    "editable": true
   },
   "outputs": [
    {
     "name": "stdout",
     "output_type": "stream",
     "text": [
      "0.826\n"
     ]
    }
   ],
   "source": [
    "def gender_features3(name):\n",
    "    features = {}\n",
    "    features[\"firstletter\"] = name[0].lower()\n",
    "    features[\"lastletter\"] = name[-1].lower()\n",
    "    for letter in 'abcdefghijklmnopqrstuvwxyz':\n",
    "        features[\"count(%s)\" % letter] = name.lower().count(letter)\n",
    "        features[\"has(%s)\" % letter] = (letter in name.lower())\n",
    "    features[\"suffix2\"] = name[-2:].lower()\n",
    "    features[\"suffix3\"] = name[-3:].lower()\n",
    "    features[\"prefix3\"] = name[:3].lower()\n",
    "    return features\n",
    "\n",
    "train_set = [(gender_features3(n), g) for (n,g) in training]\n",
    "devtest_set = [(gender_features3(n), g) for (n,g) in devtest]\n",
    "classifier = nltk.NaiveBayesClassifier.train(train_set)\n",
    "print nltk.classify.accuracy(classifier, devtest_set)"
   ]
  },
  {
   "cell_type": "code",
   "execution_count": 7,
   "metadata": {
    "collapsed": false,
    "deletable": true,
    "editable": true
   },
   "outputs": [
    {
     "name": "stdout",
     "output_type": "stream",
     "text": [
      "no. of errors:  87\n",
      "correct=female   guess=male     name=Avril                         \n",
      "correct=female   guess=male     name=Birgit                        \n",
      "correct=female   guess=male     name=Clio                          \n",
      "correct=female   guess=male     name=Cody                          \n",
      "correct=female   guess=male     name=Cristen                       \n",
      "correct=female   guess=male     name=Cyb                           \n",
      "correct=female   guess=male     name=Dagmar                        \n",
      "correct=female   guess=male     name=Dion                          \n",
      "correct=female   guess=male     name=Dolores                       \n",
      "correct=female   guess=male     name=Dorcas                        \n",
      "correct=female   guess=male     name=Dorthy                        \n",
      "correct=female   guess=male     name=Emmey                         \n",
      "correct=female   guess=male     name=Farand                        \n",
      "correct=female   guess=male     name=Farrand                       \n",
      "correct=female   guess=male     name=Francis                       \n",
      "correct=female   guess=male     name=Gabriell                      \n",
      "correct=female   guess=male     name=Gertrud                       \n",
      "correct=female   guess=male     name=Guenevere                     \n",
      "correct=female   guess=male     name=Hayley                        \n",
      "correct=female   guess=male     name=Hedy                          \n",
      "correct=female   guess=male     name=Honor                         \n",
      "correct=female   guess=male     name=Imogen                        \n",
      "correct=female   guess=male     name=Jennifer                      \n",
      "correct=female   guess=male     name=Joannes                       \n",
      "correct=female   guess=male     name=Joey                          \n",
      "correct=female   guess=male     name=Jojo                          \n",
      "correct=female   guess=male     name=Joyous                        \n",
      "correct=female   guess=male     name=Kristen                       \n",
      "correct=female   guess=male     name=Kristin                       \n",
      "correct=female   guess=male     name=Love                          \n",
      "correct=female   guess=male     name=Mab                           \n",
      "correct=female   guess=male     name=Margo                         \n",
      "correct=female   guess=male     name=Margot                        \n",
      "correct=female   guess=male     name=Mariam                        \n",
      "correct=female   guess=male     name=Marj                          \n",
      "correct=female   guess=male     name=Max                           \n",
      "correct=female   guess=male     name=Meg                           \n",
      "correct=female   guess=male     name=Modesty                       \n",
      "correct=female   guess=male     name=Nicky                         \n",
      "correct=female   guess=male     name=Pearl                         \n",
      "correct=female   guess=male     name=Philly                        \n",
      "correct=female   guess=male     name=Phylis                        \n",
      "correct=female   guess=male     name=Rey                           \n",
      "correct=female   guess=male     name=Shamit                        \n",
      "correct=female   guess=male     name=Shir                          \n",
      "correct=female   guess=male     name=Sidoney                       \n",
      "correct=female   guess=male     name=Sioux                         \n",
      "correct=female   guess=male     name=Sunny                         \n",
      "correct=female   guess=male     name=Tomiko                        \n",
      "correct=female   guess=male     name=Veronique                     \n",
      "correct=female   guess=male     name=Wynnie                        \n",
      "correct=male     guess=female   name=Alaa                          \n",
      "correct=male     guess=female   name=Allie                         \n",
      "correct=male     guess=female   name=Avi                           \n",
      "correct=male     guess=female   name=Barnie                        \n",
      "correct=male     guess=female   name=Bela                          \n",
      "correct=male     guess=female   name=Cammy                         \n",
      "correct=male     guess=female   name=Chrisy                        \n",
      "correct=male     guess=female   name=Claire                        \n",
      "correct=male     guess=female   name=Dante                         \n",
      "correct=male     guess=female   name=Dean                          \n",
      "correct=male     guess=female   name=Eli                           \n",
      "correct=male     guess=female   name=Emile                         \n",
      "correct=male     guess=female   name=Etienne                       \n",
      "correct=male     guess=female   name=Felice                        \n",
      "correct=male     guess=female   name=Iggie                         \n",
      "correct=male     guess=female   name=Ike                           \n",
      "correct=male     guess=female   name=Ikey                          \n",
      "correct=male     guess=female   name=Jude                          \n",
      "correct=male     guess=female   name=Kane                          \n",
      "correct=male     guess=female   name=Keenan                        \n",
      "correct=male     guess=female   name=Keil                          \n",
      "correct=male     guess=female   name=Laurence                      \n",
      "correct=male     guess=female   name=Laurie                        \n",
      "correct=male     guess=female   name=Luce                          \n",
      "correct=male     guess=female   name=Marty                         \n",
      "correct=male     guess=female   name=Martyn                        \n",
      "correct=male     guess=female   name=Meredith                      \n",
      "correct=male     guess=female   name=Monte                         \n",
      "correct=male     guess=female   name=Morly                         \n",
      "correct=male     guess=female   name=Normie                        \n",
      "correct=male     guess=female   name=Reagan                        \n",
      "correct=male     guess=female   name=Ritchie                       \n",
      "correct=male     guess=female   name=Shane                         \n",
      "correct=male     guess=female   name=Tanny                         \n",
      "correct=male     guess=female   name=Tate                          \n",
      "correct=male     guess=female   name=Yankee                        \n"
     ]
    }
   ],
   "source": [
    "error_analysis(gender_features3)"
   ]
  },
  {
   "cell_type": "code",
   "execution_count": 8,
   "metadata": {
    "collapsed": false,
    "deletable": true,
    "editable": true
   },
   "outputs": [
    {
     "name": "stdout",
     "output_type": "stream",
     "text": [
      "0.824\n"
     ]
    }
   ],
   "source": [
    "def gender_features4(name):\n",
    "    features = {}\n",
    "    features[\"firstletter\"] = name[0].lower()\n",
    "    features[\"lastletter\"] = name[-1].lower()\n",
    "    for letter in 'abcdefghijklmnopqrstuvwxyz':\n",
    "        features[\"count(%s)\" % letter] = name.lower().count(letter)\n",
    "        features[\"has(%s)\" % letter] = (letter in name.lower())\n",
    "    features[\"suffix2\"] = name[-2:].lower()\n",
    "    features[\"suffix3\"] = name[-3:].lower()\n",
    "    features[\"prefix3\"] = name[:3].lower()\n",
    "    features[\"num_vowels\"] = len([letter for letter in name if letter in 'aeiouy'])\n",
    "    return features\n",
    "\n",
    "train_set = [(gender_features4(n), g) for (n,g) in training]\n",
    "devtest_set = [(gender_features4(n), g) for (n,g) in devtest]\n",
    "classifier = nltk.NaiveBayesClassifier.train(train_set)\n",
    "print nltk.classify.accuracy(classifier, devtest_set)"
   ]
  },
  {
   "cell_type": "code",
   "execution_count": 9,
   "metadata": {
    "collapsed": false,
    "deletable": true,
    "editable": true
   },
   "outputs": [
    {
     "name": "stdout",
     "output_type": "stream",
     "text": [
      "0.806\n"
     ]
    }
   ],
   "source": [
    "# final performance test:\n",
    "test_set = [(gender_features4(n), g) for (n,g) in test]\n",
    "print nltk.classify.accuracy(classifier, test_set)"
   ]
  },
  {
   "cell_type": "code",
   "execution_count": 10,
   "metadata": {
    "collapsed": true,
    "deletable": true,
    "editable": true
   },
   "outputs": [],
   "source": [
    "# performance slightly worse than in dev-test -> features reflect some idiosyncracies of dev-test"
   ]
  },
  {
   "cell_type": "markdown",
   "metadata": {
    "deletable": true,
    "editable": true
   },
   "source": [
    "__Exercise 3)__"
   ]
  },
  {
   "cell_type": "code",
   "execution_count": 17,
   "metadata": {
    "collapsed": true,
    "deletable": true,
    "editable": true
   },
   "outputs": [],
   "source": [
    "from nltk.corpus import senseval\n",
    "instances = senseval.instances('serve.pos')\n",
    "size = int(len(instances) * 0.1)\n",
    "training, test = instances[size:], instances[:size]"
   ]
  },
  {
   "cell_type": "code",
   "execution_count": 18,
   "metadata": {
    "collapsed": false
   },
   "outputs": [
    {
     "data": {
      "text/plain": [
       "SensevalInstance(word=u'serve-v', position=11, context=[('oh', 'UH'), (',', ','), ('that', 'DT'), (\"'s\", 'VBZ'), ('no', 'DT'), ('good', 'NN'), ('.', '.'), ('that', 'DT'), (\"'s\", 'VBZ'), ('where', 'WRB'), ('they', 'PRP'), ('serve', 'VB'), ('cardboard', 'NN'), ('instead', 'RB'), ('of', 'IN'), ('meat', 'NN'), ('.', '.')], senses=('SERVE10',))"
      ]
     },
     "execution_count": 18,
     "metadata": {},
     "output_type": "execute_result"
    }
   ],
   "source": [
    "training[0]"
   ]
  },
  {
   "cell_type": "code",
   "execution_count": 21,
   "metadata": {
    "collapsed": false
   },
   "outputs": [
    {
     "name": "stdout",
     "output_type": "stream",
     "text": [
      "0.807780320366\n"
     ]
    }
   ],
   "source": [
    "def sense_features(instance):\n",
    "    features = {}\n",
    "    features[\"word-type\"] = instance.word\n",
    "    features[\"word-tag\"] = instance.context[instance.position][1] \n",
    "    features[\"prev-word\"] = instance.context[instance.position-1][0]\n",
    "    features[\"prev-word-tag\"] = instance.context[instance.position-1][1]\n",
    "    features[\"next-word\"] = instance.context[instance.position+1][0]\n",
    "    features[\"next-word-tag\"] = instance.context[instance.position+1][1]\n",
    "    return features\n",
    "\n",
    "train_set = [(sense_features(instance), instance.senses) for instance in training]\n",
    "test_set = [(sense_features(instance), instance.senses) for instance in test]\n",
    "classifier = nltk.NaiveBayesClassifier.train(train_set)\n",
    "print nltk.classify.accuracy(classifier, test_set)"
   ]
  },
  {
   "cell_type": "markdown",
   "metadata": {},
   "source": [
    "__Exercise 4)__"
   ]
  },
  {
   "cell_type": "code",
   "execution_count": 23,
   "metadata": {
    "collapsed": false
   },
   "outputs": [
    {
     "name": "stdout",
     "output_type": "stream",
     "text": [
      "0.63\n",
      "Most Informative Features\n",
      "          contains(sans) = True              neg : pos    =      8.9 : 1.0\n",
      "    contains(mediocrity) = True              neg : pos    =      7.6 : 1.0\n",
      "     contains(dismissed) = True              pos : neg    =      7.0 : 1.0\n",
      "        contains(fabric) = True              pos : neg    =      6.4 : 1.0\n",
      "   contains(bruckheimer) = True              neg : pos    =      6.3 : 1.0\n",
      "         contains(wires) = True              neg : pos    =      6.3 : 1.0\n",
      "     contains(uplifting) = True              pos : neg    =      5.9 : 1.0\n",
      "           contains(ugh) = True              neg : pos    =      5.8 : 1.0\n",
      "          contains(wits) = True              pos : neg    =      5.7 : 1.0\n",
      "   contains(overwhelmed) = True              pos : neg    =      5.7 : 1.0\n",
      "          contains(lang) = True              pos : neg    =      5.7 : 1.0\n",
      "  contains(effortlessly) = True              pos : neg    =      5.6 : 1.0\n",
      "        contains(doubts) = True              pos : neg    =      5.0 : 1.0\n",
      "      contains(chopping) = True              neg : pos    =      5.0 : 1.0\n",
      "        contains(bounce) = True              neg : pos    =      5.0 : 1.0\n",
      "         contains(climb) = True              neg : pos    =      5.0 : 1.0\n",
      "      contains(matheson) = True              pos : neg    =      4.4 : 1.0\n",
      "       contains(topping) = True              pos : neg    =      4.4 : 1.0\n",
      "         contains(spins) = True              pos : neg    =      4.4 : 1.0\n",
      "            contains(33) = True              pos : neg    =      4.4 : 1.0\n",
      "         contains(edges) = True              pos : neg    =      4.4 : 1.0\n",
      "          contains(wang) = True              pos : neg    =      4.4 : 1.0\n",
      "       contains(quicker) = True              neg : pos    =      4.3 : 1.0\n",
      "       contains(maxwell) = True              neg : pos    =      4.3 : 1.0\n",
      "         contains(locks) = True              neg : pos    =      4.3 : 1.0\n",
      "          contains(tsui) = True              neg : pos    =      4.3 : 1.0\n",
      "    contains(cronenberg) = True              pos : neg    =      4.2 : 1.0\n",
      "          contains(hugo) = True              pos : neg    =      4.2 : 1.0\n",
      "         contains(tripe) = True              neg : pos    =      4.2 : 1.0\n",
      "   contains(understands) = True              pos : neg    =      4.2 : 1.0\n"
     ]
    }
   ],
   "source": [
    "from nltk.corpus import movie_reviews\n",
    "documents = [(list(movie_reviews.words(fileid)), category) for category in movie_reviews.categories() for fileid in movie_reviews.fileids(category)]\n",
    "random.shuffle(documents)\n",
    "\n",
    "all_words = nltk.FreqDist(w.lower() for w in movie_reviews.words())\n",
    "word_features = all_words.keys()[:2000]\n",
    "def document_features(document):\n",
    "    document_words = set(document)\n",
    "    features = {}\n",
    "    for word in word_features:\n",
    "        features['contains(%s)' % word] = (word in document_words)\n",
    "    return features\n",
    "\n",
    "featuresets = [(document_features(d), c) for (d,c) in documents]\n",
    "train_set, test_set = featuresets[100:], featuresets[:100]\n",
    "classifier = nltk.NaiveBayesClassifier.train(train_set)\n",
    "print nltk.classify.accuracy(classifier, test_set)\n",
    "classifier.show_most_informative_features(30)"
   ]
  },
  {
   "cell_type": "code",
   "execution_count": 24,
   "metadata": {
    "collapsed": true
   },
   "outputs": [],
   "source": [
    "# most of them already indicate some judgment in themselves ('ugh', 'mediocrity') or belong to typical phrases that\n",
    "# indicate one direction of judgement ('understands' -> '... understands how to create atmosphere' or something like that)\n",
    "# some seem to be names of actors etc. which tend to be judged one direction or the other\n",
    "# surprising -> '33', 'wires'"
   ]
  },
  {
   "cell_type": "markdown",
   "metadata": {},
   "source": [
    "__Exercise 5)__"
   ]
  },
  {
   "cell_type": "code",
   "execution_count": null,
   "metadata": {
    "collapsed": true
   },
   "outputs": [],
   "source": []
  }
 ],
 "metadata": {
  "kernelspec": {
   "display_name": "Python 2",
   "language": "python",
   "name": "python2"
  },
  "language_info": {
   "codemirror_mode": {
    "name": "ipython",
    "version": 2
   },
   "file_extension": ".py",
   "mimetype": "text/x-python",
   "name": "python",
   "nbconvert_exporter": "python",
   "pygments_lexer": "ipython2",
   "version": "2.7.12"
  }
 },
 "nbformat": 4,
 "nbformat_minor": 2
}
