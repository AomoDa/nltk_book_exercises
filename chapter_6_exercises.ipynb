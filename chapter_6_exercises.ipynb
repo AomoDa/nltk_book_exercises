{
 "cells": [
  {
   "cell_type": "markdown",
   "metadata": {
    "deletable": true,
    "editable": true
   },
   "source": [
    "__Exercise 1__"
   ]
  },
  {
   "cell_type": "code",
   "execution_count": 1,
   "metadata": {
    "collapsed": true,
    "deletable": true,
    "editable": true,
    "scrolled": true
   },
   "outputs": [],
   "source": [
    "# MACHINE TRANSLATION:\n",
    "# see e.g. http://www.aclweb.org/anthology/R11-1077, https://nlp.stanford.edu/courses/cs224n/2010/reports/bipins.pdf\n",
    "# data: parallel corpora, aligned at sentence level (automatically or manually)\n",
    "# size: usually assumed the larger the better, 2nd paper: 100,00 documents\n",
    "# reasons for large amount: probability that a word or combination of words has been seen during training increases"
   ]
  },
  {
   "cell_type": "markdown",
   "metadata": {
    "deletable": true,
    "editable": true
   },
   "source": [
    "__Exercise 2__"
   ]
  },
  {
   "cell_type": "code",
   "execution_count": 11,
   "metadata": {
    "collapsed": false,
    "deletable": true,
    "editable": true
   },
   "outputs": [
    {
     "name": "stdout",
     "output_type": "stream",
     "text": [
      "0.774\n"
     ]
    }
   ],
   "source": [
    "import nltk\n",
    "from nltk.corpus import names\n",
    "import random\n",
    "names = ([(name, 'male') for name in names.words('male.txt')] + [(name, 'female') for name in names.words('female.txt')])\n",
    "random.shuffle(names)\n",
    "test, devtest, training = names[:500], names[500:1000], names[1000:]\n",
    "\n",
    "def gender_features1(name):\n",
    "    features = {}\n",
    "    features[\"firstletter\"] = name[0].lower()\n",
    "    features[\"lastletter\"] = name[-1].lower()\n",
    "    for letter in 'abcdefghijklmnopqrstuvwxyz':\n",
    "        features[\"count(%s)\" % letter] = name.lower().count(letter)\n",
    "        features[\"has(%s)\" % letter] = (letter in name.lower())\n",
    "    features[\"suffix2\"] = name[-2:].lower()\n",
    "    return features\n",
    "\n",
    "train_set = [(gender_features1(n), g) for (n,g) in training]\n",
    "devtest_set = [(gender_features1(n), g) for (n,g) in devtest]\n",
    "classifier = nltk.NaiveBayesClassifier.train(train_set)\n",
    "print nltk.classify.accuracy(classifier, devtest_set)"
   ]
  },
  {
   "cell_type": "code",
   "execution_count": 13,
   "metadata": {
    "collapsed": false
   },
   "outputs": [
    {
     "name": "stdout",
     "output_type": "stream",
     "text": [
      " no. of errors:  113\n",
      "correct=female   guess=male     name=Beilul                        \n",
      "correct=female   guess=male     name=Bert                          \n",
      "correct=female   guess=male     name=Bobby                         \n",
      "correct=female   guess=male     name=Britney                       \n",
      "correct=female   guess=male     name=Cherey                        \n",
      "correct=female   guess=male     name=Cherish                       \n",
      "correct=female   guess=male     name=Christen                      \n",
      "correct=female   guess=male     name=Christin                      \n",
      "correct=female   guess=male     name=Clair                         \n",
      "correct=female   guess=male     name=Clovis                        \n",
      "correct=female   guess=male     name=Cordy                         \n",
      "correct=female   guess=male     name=Crystal                       \n",
      "correct=female   guess=male     name=Del                           \n",
      "correct=female   guess=male     name=Dell                          \n",
      "correct=female   guess=male     name=Devin                         \n",
      "correct=female   guess=male     name=Dode                          \n",
      "correct=female   guess=male     name=Doreen                        \n",
      "correct=female   guess=male     name=Dorice                        \n",
      "correct=female   guess=male     name=Ethel                         \n",
      "correct=female   guess=male     name=Farrand                       \n",
      "correct=female   guess=male     name=Fran                          \n",
      "correct=female   guess=male     name=Gert                          \n",
      "correct=female   guess=male     name=Gwynne                        \n",
      "correct=female   guess=male     name=Haleigh                       \n",
      "correct=female   guess=male     name=Harriott                      \n",
      "correct=female   guess=male     name=Hildagard                     \n",
      "correct=female   guess=male     name=Inez                          \n",
      "correct=female   guess=male     name=Joan                          \n",
      "correct=female   guess=male     name=Jorey                         \n",
      "correct=female   guess=male     name=Juliet                        \n",
      "correct=female   guess=male     name=Kerstin                       \n",
      "correct=female   guess=male     name=Kirstin                       \n",
      "correct=female   guess=male     name=Leigh                         \n",
      "correct=female   guess=male     name=Meghan                        \n",
      "correct=female   guess=male     name=Merl                          \n",
      "correct=female   guess=male     name=Nichol                        \n",
      "correct=female   guess=male     name=Orel                          \n",
      "correct=female   guess=male     name=Patrice                       \n",
      "correct=female   guess=male     name=Paula-Grace                   \n",
      "correct=female   guess=male     name=Pru                           \n",
      "correct=female   guess=male     name=Ricky                         \n",
      "correct=female   guess=male     name=Rivkah                        \n",
      "correct=female   guess=male     name=Rosemary                      \n",
      "correct=female   guess=male     name=Sharron                       \n",
      "correct=female   guess=male     name=Sharyl                        \n",
      "correct=female   guess=male     name=Sibby                         \n",
      "correct=female   guess=male     name=Sioux                         \n",
      "correct=female   guess=male     name=Sophey                        \n",
      "correct=female   guess=male     name=Sybil                         \n",
      "correct=female   guess=male     name=Sydel                         \n",
      "correct=female   guess=male     name=Taffy                         \n",
      "correct=female   guess=male     name=Tatum                         \n",
      "correct=female   guess=male     name=Tiphany                       \n",
      "correct=female   guess=male     name=Trudey                        \n",
      "correct=female   guess=male     name=Trudie                        \n",
      "correct=female   guess=male     name=Wallis                        \n",
      "correct=female   guess=male     name=Willow                        \n",
      "correct=male     guess=female   name=Abby                          \n",
      "correct=male     guess=female   name=Aditya                        \n",
      "correct=male     guess=female   name=Ambrose                       \n",
      "correct=male     guess=female   name=Ambrosi                       \n",
      "correct=male     guess=female   name=Angel                         \n",
      "correct=male     guess=female   name=Angie                         \n",
      "correct=male     guess=female   name=Axel                          \n",
      "correct=male     guess=female   name=Bailie                        \n",
      "correct=male     guess=female   name=Bealle                        \n",
      "correct=male     guess=female   name=Cary                          \n",
      "correct=male     guess=female   name=Clinten                       \n",
      "correct=male     guess=female   name=Constantin                    \n",
      "correct=male     guess=female   name=Corrie                        \n",
      "correct=male     guess=female   name=Danie                         \n",
      "correct=male     guess=female   name=Davey                         \n",
      "correct=male     guess=female   name=Dickey                        \n",
      "correct=male     guess=female   name=Earle                         \n",
      "correct=male     guess=female   name=Fonsie                        \n",
      "correct=male     guess=female   name=Fonzie                        \n",
      "correct=male     guess=female   name=Giorgi                        \n",
      "correct=male     guess=female   name=Jackie                        \n",
      "correct=male     guess=female   name=Jaime                         \n",
      "correct=male     guess=female   name=Jerri                         \n",
      "correct=male     guess=female   name=Jessey                        \n",
      "correct=male     guess=female   name=Jimmy                         \n",
      "correct=male     guess=female   name=Kane                          \n",
      "correct=male     guess=female   name=Kennedy                       \n",
      "correct=male     guess=female   name=Lefty                         \n",
      "correct=male     guess=female   name=Lin                           \n",
      "correct=male     guess=female   name=Lindy                         \n",
      "correct=male     guess=female   name=Martyn                        \n",
      "correct=male     guess=female   name=Maurie                        \n",
      "correct=male     guess=female   name=Maximilien                    \n",
      "correct=male     guess=female   name=Mikey                         \n",
      "correct=male     guess=female   name=Neil                          \n",
      "correct=male     guess=female   name=Nevin                         \n",
      "correct=male     guess=female   name=Nikki                         \n",
      "correct=male     guess=female   name=Normie                        \n",
      "correct=male     guess=female   name=Ozzie                         \n",
      "correct=male     guess=female   name=Ravi                          \n",
      "correct=male     guess=female   name=Ravil                         \n",
      "correct=male     guess=female   name=Salman                        \n",
      "correct=male     guess=female   name=Salomone                      \n",
      "correct=male     guess=female   name=Saxe                          \n",
      "correct=male     guess=female   name=Si                            \n",
      "correct=male     guess=female   name=Simone                        \n",
      "correct=male     guess=female   name=Skye                          \n",
      "correct=male     guess=female   name=Sloane                        \n",
      "correct=male     guess=female   name=Stanly                        \n",
      "correct=male     guess=female   name=Stearne                       \n",
      "correct=male     guess=female   name=Vale                          \n",
      "correct=male     guess=female   name=Vance                         \n",
      "correct=male     guess=female   name=Vasilis                       \n",
      "correct=male     guess=female   name=Yehudi                        \n",
      "correct=male     guess=female   name=Yule                          \n",
      "correct=male     guess=female   name=Zebedee                       \n"
     ]
    }
   ],
   "source": [
    "def error_analysis(gender_features):\n",
    "    errors = []\n",
    "    for (name, tag) in devtest:\n",
    "        guess = classifier.classify(gender_features(name))\n",
    "        if guess != tag:\n",
    "            errors.append((tag, guess, name))\n",
    "    print 'no. of errors: ', len(errors)        \n",
    "        \n",
    "    for (tag, guess, name) in sorted(errors): # doctest: +ELLIPSIS +NORMALIZE_WHITESPACE\n",
    "        print 'correct=%-8s guess=%-8s name=%-30s' % (tag, guess, name)        \n",
    "        \n",
    "error_analysis(gender_features1)        "
   ]
  },
  {
   "cell_type": "code",
   "execution_count": 14,
   "metadata": {
    "collapsed": false
   },
   "outputs": [
    {
     "name": "stdout",
     "output_type": "stream",
     "text": [
      "0.796\n"
     ]
    }
   ],
   "source": [
    "def gender_features2(name):\n",
    "    features = {}\n",
    "    features[\"firstletter\"] = name[0].lower()\n",
    "    features[\"lastletter\"] = name[-1].lower()\n",
    "    for letter in 'abcdefghijklmnopqrstuvwxyz':\n",
    "        features[\"count(%s)\" % letter] = name.lower().count(letter)\n",
    "        features[\"has(%s)\" % letter] = (letter in name.lower())\n",
    "    features[\"suffix2\"] = name[-2:].lower()\n",
    "    features[\"suffix3\"] = name[-3:].lower()\n",
    "    return features\n",
    "\n",
    "train_set = [(gender_features2(n), g) for (n,g) in training]\n",
    "devtest_set = [(gender_features2(n), g) for (n,g) in devtest]\n",
    "classifier = nltk.NaiveBayesClassifier.train(train_set)\n",
    "print nltk.classify.accuracy(classifier, devtest_set)"
   ]
  },
  {
   "cell_type": "code",
   "execution_count": 15,
   "metadata": {
    "collapsed": false
   },
   "outputs": [
    {
     "name": "stdout",
     "output_type": "stream",
     "text": [
      "no. of errors:  102\n",
      "correct=female   guess=male     name=Beilul                        \n",
      "correct=female   guess=male     name=Bert                          \n",
      "correct=female   guess=male     name=Bobby                         \n",
      "correct=female   guess=male     name=Charmian                      \n",
      "correct=female   guess=male     name=Cherey                        \n",
      "correct=female   guess=male     name=Cherish                       \n",
      "correct=female   guess=male     name=Christen                      \n",
      "correct=female   guess=male     name=Christin                      \n",
      "correct=female   guess=male     name=Clair                         \n",
      "correct=female   guess=male     name=Clovis                        \n",
      "correct=female   guess=male     name=Cordy                         \n",
      "correct=female   guess=male     name=Dael                          \n",
      "correct=female   guess=male     name=Del                           \n",
      "correct=female   guess=male     name=Dell                          \n",
      "correct=female   guess=male     name=Devin                         \n",
      "correct=female   guess=male     name=Dian                          \n",
      "correct=female   guess=male     name=Dode                          \n",
      "correct=female   guess=male     name=Dorice                        \n",
      "correct=female   guess=male     name=Ethel                         \n",
      "correct=female   guess=male     name=Farrand                       \n",
      "correct=female   guess=male     name=Fran                          \n",
      "correct=female   guess=male     name=Gabriel                       \n",
      "correct=female   guess=male     name=Gert                          \n",
      "correct=female   guess=male     name=Haleigh                       \n",
      "correct=female   guess=male     name=Harriott                      \n",
      "correct=female   guess=male     name=Hildagard                     \n",
      "correct=female   guess=male     name=Inez                          \n",
      "correct=female   guess=male     name=Joan                          \n",
      "correct=female   guess=male     name=Jorey                         \n",
      "correct=female   guess=male     name=Juliet                        \n",
      "correct=female   guess=male     name=Kerstin                       \n",
      "correct=female   guess=male     name=Kirstin                       \n",
      "correct=female   guess=male     name=Leigh                         \n",
      "correct=female   guess=male     name=Meghan                        \n",
      "correct=female   guess=male     name=Merl                          \n",
      "correct=female   guess=male     name=Nichol                        \n",
      "correct=female   guess=male     name=Orel                          \n",
      "correct=female   guess=male     name=Paula-Grace                   \n",
      "correct=female   guess=male     name=Paule                         \n",
      "correct=female   guess=male     name=Pru                           \n",
      "correct=female   guess=male     name=Ricky                         \n",
      "correct=female   guess=male     name=Rosemary                      \n",
      "correct=female   guess=male     name=Sharron                       \n",
      "correct=female   guess=male     name=Sibby                         \n",
      "correct=female   guess=male     name=Sioux                         \n",
      "correct=female   guess=male     name=Sophey                        \n",
      "correct=female   guess=male     name=Sydel                         \n",
      "correct=female   guess=male     name=Taffy                         \n",
      "correct=female   guess=male     name=Tatum                         \n",
      "correct=female   guess=male     name=Trudey                        \n",
      "correct=female   guess=male     name=Trudie                        \n",
      "correct=female   guess=male     name=Wallis                        \n",
      "correct=female   guess=male     name=Willow                        \n",
      "correct=male     guess=female   name=Abby                          \n",
      "correct=male     guess=female   name=Aditya                        \n",
      "correct=male     guess=female   name=Ambrosi                       \n",
      "correct=male     guess=female   name=Angel                         \n",
      "correct=male     guess=female   name=Angie                         \n",
      "correct=male     guess=female   name=Axel                          \n",
      "correct=male     guess=female   name=Bailie                        \n",
      "correct=male     guess=female   name=Bealle                        \n",
      "correct=male     guess=female   name=Cary                          \n",
      "correct=male     guess=female   name=Chauncey                      \n",
      "correct=male     guess=female   name=Clinten                       \n",
      "correct=male     guess=female   name=Corrie                        \n",
      "correct=male     guess=female   name=Danie                         \n",
      "correct=male     guess=female   name=Earle                         \n",
      "correct=male     guess=female   name=Fonsie                        \n",
      "correct=male     guess=female   name=Fonzie                        \n",
      "correct=male     guess=female   name=Giorgi                        \n",
      "correct=male     guess=female   name=Herrmann                      \n",
      "correct=male     guess=female   name=Jackie                        \n",
      "correct=male     guess=female   name=Jaime                         \n",
      "correct=male     guess=female   name=Jerri                         \n",
      "correct=male     guess=female   name=Jessey                        \n",
      "correct=male     guess=female   name=Jimmy                         \n",
      "correct=male     guess=female   name=Joey                          \n",
      "correct=male     guess=female   name=Kane                          \n",
      "correct=male     guess=female   name=Kennedy                       \n",
      "correct=male     guess=female   name=Lefty                         \n",
      "correct=male     guess=female   name=Lin                           \n",
      "correct=male     guess=female   name=Lindy                         \n",
      "correct=male     guess=female   name=Martyn                        \n",
      "correct=male     guess=female   name=Maurie                        \n",
      "correct=male     guess=female   name=Mikey                         \n",
      "correct=male     guess=female   name=Neil                          \n",
      "correct=male     guess=female   name=Nikki                         \n",
      "correct=male     guess=female   name=Normie                        \n",
      "correct=male     guess=female   name=Ozzie                         \n",
      "correct=male     guess=female   name=Ravi                          \n",
      "correct=male     guess=female   name=Salomone                      \n",
      "correct=male     guess=female   name=Si                            \n",
      "correct=male     guess=female   name=Simone                        \n",
      "correct=male     guess=female   name=Skye                          \n",
      "correct=male     guess=female   name=Sloane                        \n",
      "correct=male     guess=female   name=Stanly                        \n",
      "correct=male     guess=female   name=Stearne                       \n",
      "correct=male     guess=female   name=Vale                          \n",
      "correct=male     guess=female   name=Vance                         \n",
      "correct=male     guess=female   name=Vasilis                       \n",
      "correct=male     guess=female   name=Yehudi                        \n",
      "correct=male     guess=female   name=Zebedee                       \n"
     ]
    }
   ],
   "source": [
    "error_analysis(gender_features2)"
   ]
  },
  {
   "cell_type": "code",
   "execution_count": 23,
   "metadata": {
    "collapsed": false
   },
   "outputs": [
    {
     "name": "stdout",
     "output_type": "stream",
     "text": [
      "0.806\n"
     ]
    }
   ],
   "source": [
    "def gender_features3(name):\n",
    "    features = {}\n",
    "    features[\"firstletter\"] = name[0].lower()\n",
    "    features[\"lastletter\"] = name[-1].lower()\n",
    "    for letter in 'abcdefghijklmnopqrstuvwxyz':\n",
    "        features[\"count(%s)\" % letter] = name.lower().count(letter)\n",
    "        features[\"has(%s)\" % letter] = (letter in name.lower())\n",
    "    features[\"suffix2\"] = name[-2:].lower()\n",
    "    features[\"suffix3\"] = name[-3:].lower()\n",
    "    features[\"prefix3\"] = name[:3].lower()\n",
    "    return features\n",
    "\n",
    "train_set = [(gender_features3(n), g) for (n,g) in training]\n",
    "devtest_set = [(gender_features3(n), g) for (n,g) in devtest]\n",
    "classifier = nltk.NaiveBayesClassifier.train(train_set)\n",
    "print nltk.classify.accuracy(classifier, devtest_set)"
   ]
  },
  {
   "cell_type": "code",
   "execution_count": 24,
   "metadata": {
    "collapsed": false
   },
   "outputs": [
    {
     "name": "stdout",
     "output_type": "stream",
     "text": [
      "no. of errors:  97\n",
      "correct=female   guess=male     name=Beilul                        \n",
      "correct=female   guess=male     name=Benny                         \n",
      "correct=female   guess=male     name=Bert                          \n",
      "correct=female   guess=male     name=Bobby                         \n",
      "correct=female   guess=male     name=Ceil                          \n",
      "correct=female   guess=male     name=Charmian                      \n",
      "correct=female   guess=male     name=Cherey                        \n",
      "correct=female   guess=male     name=Cherish                       \n",
      "correct=female   guess=male     name=Christen                      \n",
      "correct=female   guess=male     name=Christin                      \n",
      "correct=female   guess=male     name=Clair                         \n",
      "correct=female   guess=male     name=Clovis                        \n",
      "correct=female   guess=male     name=Cordy                         \n",
      "correct=female   guess=male     name=Dael                          \n",
      "correct=female   guess=male     name=Damaris                       \n",
      "correct=female   guess=male     name=Dell                          \n",
      "correct=female   guess=male     name=Devin                         \n",
      "correct=female   guess=male     name=Dierdre                       \n",
      "correct=female   guess=male     name=Ethel                         \n",
      "correct=female   guess=male     name=Farrand                       \n",
      "correct=female   guess=male     name=Fran                          \n",
      "correct=female   guess=male     name=Gabriel                       \n",
      "correct=female   guess=male     name=Gert                          \n",
      "correct=female   guess=male     name=Gui                           \n",
      "correct=female   guess=male     name=Haleigh                       \n",
      "correct=female   guess=male     name=Harriott                      \n",
      "correct=female   guess=male     name=Hildagard                     \n",
      "correct=female   guess=male     name=Inez                          \n",
      "correct=female   guess=male     name=Joan                          \n",
      "correct=female   guess=male     name=Jorey                         \n",
      "correct=female   guess=male     name=Juliet                        \n",
      "correct=female   guess=male     name=Kerstin                       \n",
      "correct=female   guess=male     name=Kirstin                       \n",
      "correct=female   guess=male     name=Leigh                         \n",
      "correct=female   guess=male     name=Meghan                        \n",
      "correct=female   guess=male     name=Merl                          \n",
      "correct=female   guess=male     name=Nichol                        \n",
      "correct=female   guess=male     name=Orel                          \n",
      "correct=female   guess=male     name=Patrice                       \n",
      "correct=female   guess=male     name=Paula-Grace                   \n",
      "correct=female   guess=male     name=Paule                         \n",
      "correct=female   guess=male     name=Pru                           \n",
      "correct=female   guess=male     name=Ricky                         \n",
      "correct=female   guess=male     name=Rosemary                      \n",
      "correct=female   guess=male     name=Sharron                       \n",
      "correct=female   guess=male     name=Sioux                         \n",
      "correct=female   guess=male     name=Sophey                        \n",
      "correct=female   guess=male     name=Sydel                         \n",
      "correct=female   guess=male     name=Taffy                         \n",
      "correct=female   guess=male     name=Tatum                         \n",
      "correct=female   guess=male     name=Trudey                        \n",
      "correct=female   guess=male     name=Wallis                        \n",
      "correct=female   guess=male     name=Willow                        \n",
      "correct=male     guess=female   name=Abby                          \n",
      "correct=male     guess=female   name=Aditya                        \n",
      "correct=male     guess=female   name=Ambrosi                       \n",
      "correct=male     guess=female   name=Angel                         \n",
      "correct=male     guess=female   name=Angie                         \n",
      "correct=male     guess=female   name=Bailie                        \n",
      "correct=male     guess=female   name=Bealle                        \n",
      "correct=male     guess=female   name=Cary                          \n",
      "correct=male     guess=female   name=Chauncey                      \n",
      "correct=male     guess=female   name=Corrie                        \n",
      "correct=male     guess=female   name=Danie                         \n",
      "correct=male     guess=female   name=Earle                         \n",
      "correct=male     guess=female   name=Erin                          \n",
      "correct=male     guess=female   name=Fonsie                        \n",
      "correct=male     guess=female   name=Giorgi                        \n",
      "correct=male     guess=female   name=Holly                         \n",
      "correct=male     guess=female   name=Jackie                        \n",
      "correct=male     guess=female   name=Jaime                         \n",
      "correct=male     guess=female   name=Jerri                         \n",
      "correct=male     guess=female   name=Jessey                        \n",
      "correct=male     guess=female   name=Joey                          \n",
      "correct=male     guess=female   name=Kane                          \n",
      "correct=male     guess=female   name=Kennedy                       \n",
      "correct=male     guess=female   name=Lin                           \n",
      "correct=male     guess=female   name=Lindy                         \n",
      "correct=male     guess=female   name=Martyn                        \n",
      "correct=male     guess=female   name=Maurie                        \n",
      "correct=male     guess=female   name=Neil                          \n",
      "correct=male     guess=female   name=Nikki                         \n",
      "correct=male     guess=female   name=Normie                        \n",
      "correct=male     guess=female   name=Ozzie                         \n",
      "correct=male     guess=female   name=Ravi                          \n",
      "correct=male     guess=female   name=Salomone                      \n",
      "correct=male     guess=female   name=Shaun                         \n",
      "correct=male     guess=female   name=Si                            \n",
      "correct=male     guess=female   name=Simone                        \n",
      "correct=male     guess=female   name=Sloane                        \n",
      "correct=male     guess=female   name=Stanly                        \n",
      "correct=male     guess=female   name=Stearne                       \n",
      "correct=male     guess=female   name=Vale                          \n",
      "correct=male     guess=female   name=Van                           \n",
      "correct=male     guess=female   name=Vance                         \n",
      "correct=male     guess=female   name=Yehudi                        \n",
      "correct=male     guess=female   name=Zebedee                       \n"
     ]
    }
   ],
   "source": [
    "error_analysis(gender_features3)"
   ]
  },
  {
   "cell_type": "code",
   "execution_count": 27,
   "metadata": {
    "collapsed": false
   },
   "outputs": [
    {
     "name": "stdout",
     "output_type": "stream",
     "text": [
      "0.818\n"
     ]
    }
   ],
   "source": [
    "def gender_features4(name):\n",
    "    features = {}\n",
    "    features[\"firstletter\"] = name[0].lower()\n",
    "    features[\"lastletter\"] = name[-1].lower()\n",
    "    for letter in 'abcdefghijklmnopqrstuvwxyz':\n",
    "        features[\"count(%s)\" % letter] = name.lower().count(letter)\n",
    "        features[\"has(%s)\" % letter] = (letter in name.lower())\n",
    "    features[\"suffix2\"] = name[-2:].lower()\n",
    "    features[\"suffix3\"] = name[-3:].lower()\n",
    "    features[\"prefix3\"] = name[:3].lower()\n",
    "    features[\"num_vowels\"] = len([letter for letter in name if letter in 'aeiouy'])\n",
    "    return features\n",
    "\n",
    "train_set = [(gender_features4(n), g) for (n,g) in training]\n",
    "devtest_set = [(gender_features4(n), g) for (n,g) in devtest]\n",
    "classifier = nltk.NaiveBayesClassifier.train(train_set)\n",
    "print nltk.classify.accuracy(classifier, devtest_set)"
   ]
  },
  {
   "cell_type": "code",
   "execution_count": 28,
   "metadata": {
    "collapsed": false
   },
   "outputs": [
    {
     "name": "stdout",
     "output_type": "stream",
     "text": [
      "0.816\n"
     ]
    }
   ],
   "source": [
    "# final performance test:\n",
    "test_set = [(gender_features4(n), g) for (n,g) in test]\n",
    "print nltk.classify.accuracy(classifier, test_set)"
   ]
  },
  {
   "cell_type": "code",
   "execution_count": 29,
   "metadata": {
    "collapsed": true
   },
   "outputs": [],
   "source": [
    "# performance slightly worse than in dev-test -> features reflect some idiosyncracies of dev-test"
   ]
  },
  {
   "cell_type": "markdown",
   "metadata": {},
   "source": [
    "__Exercise 3)__"
   ]
  },
  {
   "cell_type": "code",
   "execution_count": null,
   "metadata": {
    "collapsed": true
   },
   "outputs": [],
   "source": []
  }
 ],
 "metadata": {
  "kernelspec": {
   "display_name": "Python 2",
   "language": "python",
   "name": "python2"
  },
  "language_info": {
   "codemirror_mode": {
    "name": "ipython",
    "version": 2
   },
   "file_extension": ".py",
   "mimetype": "text/x-python",
   "name": "python",
   "nbconvert_exporter": "python",
   "pygments_lexer": "ipython2",
   "version": "2.7.12"
  }
 },
 "nbformat": 4,
 "nbformat_minor": 2
}
