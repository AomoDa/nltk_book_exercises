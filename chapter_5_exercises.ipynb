{
 "cells": [
  {
   "cell_type": "markdown",
   "metadata": {
    "deletable": true,
    "editable": true
   },
   "source": [
    "__Exercise 1)__"
   ]
  },
  {
   "cell_type": "code",
   "execution_count": 2,
   "metadata": {
    "collapsed": true,
    "deletable": true,
    "editable": true
   },
   "outputs": [],
   "source": [
    "#EYE DROPS OFF SHELF\n",
    "# Correct: Eye(Noun) Drops(Noun Plural) off(Preposition) shelf(Noun)\n",
    "# Misinterpretation: Eye(Noun) Drops(Verb) off(Preporsition) shelf(Noun)"
   ]
  },
  {
   "cell_type": "markdown",
   "metadata": {
    "deletable": true,
    "editable": true
   },
   "source": [
    "__Exercise 2)__"
   ]
  },
  {
   "cell_type": "code",
   "execution_count": 3,
   "metadata": {
    "collapsed": false,
    "deletable": true,
    "editable": true
   },
   "outputs": [
    {
     "name": "stdout",
     "output_type": "stream",
     "text": [
      "[u'VERB', u'NOUN']\n",
      "2\n",
      "22\n"
     ]
    }
   ],
   "source": [
    "import nltk\n",
    "from nltk.corpus import brown\n",
    "brown_tagged = brown.tagged_words(tagset='universal')\n",
    "# word: contest, guess: noun\n",
    "tag_fd = nltk.FreqDist(tag for (word, tag) in brown_tagged if word == 'contest')\n",
    "print tag_fd.keys()\n",
    "print tag_fd['VERB']\n",
    "print tag_fd['NOUN']"
   ]
  },
  {
   "cell_type": "code",
   "execution_count": 4,
   "metadata": {
    "collapsed": false,
    "deletable": true,
    "editable": true
   },
   "outputs": [
    {
     "name": "stdout",
     "output_type": "stream",
     "text": [
      "[u'VERB', u'NOUN']\n",
      "109\n",
      "88\n"
     ]
    }
   ],
   "source": [
    "# word: play, guess: verb\n",
    "tag_fd = nltk.FreqDist(tag for (word, tag) in brown_tagged if word == 'play')\n",
    "print tag_fd.keys()\n",
    "print tag_fd['VERB']\n",
    "print tag_fd['NOUN']"
   ]
  },
  {
   "cell_type": "markdown",
   "metadata": {
    "deletable": true,
    "editable": true
   },
   "source": [
    "__Exercise 3)__"
   ]
  },
  {
   "cell_type": "code",
   "execution_count": 5,
   "metadata": {
    "collapsed": true,
    "deletable": true,
    "editable": true
   },
   "outputs": [],
   "source": [
    "# (They, PRON) (wind, VERB) (back, ADP) (the, DET) (clock, NOUN)\n",
    "# (while, CONJ) (we, PRON) (chase, VERB) (after, ADP) (the, DET) (wind, NOUN)\n",
    "# => (wind, VERB) vs. (wind, NOUN)"
   ]
  },
  {
   "cell_type": "markdown",
   "metadata": {
    "deletable": true,
    "editable": true
   },
   "source": [
    "__Exercise 4)__"
   ]
  },
  {
   "cell_type": "code",
   "execution_count": 6,
   "metadata": {
    "collapsed": true,
    "deletable": true,
    "editable": true
   },
   "outputs": [],
   "source": [
    "# Pronunciation dictionary, maps from written form to phonetic transcriptions of possible pronunciations\n",
    "# Syntax tree analyzer, maps from surface form of sentence to analyzed tree structure"
   ]
  },
  {
   "cell_type": "markdown",
   "metadata": {
    "deletable": true,
    "editable": true
   },
   "source": [
    "__Exercise 5)__"
   ]
  },
  {
   "cell_type": "code",
   "execution_count": 7,
   "metadata": {
    "collapsed": false,
    "deletable": true,
    "editable": true
   },
   "outputs": [
    {
     "data": {
      "text/plain": [
       "{'baz': 123, 'foo': 'bar'}"
      ]
     },
     "execution_count": 7,
     "metadata": {},
     "output_type": "execute_result"
    }
   ],
   "source": [
    "d = {}\n",
    "d['foo'] = 'bar'\n",
    "d['baz'] = 123\n",
    "d"
   ]
  },
  {
   "cell_type": "code",
   "execution_count": 8,
   "metadata": {
    "collapsed": false,
    "deletable": true,
    "editable": true
   },
   "outputs": [
    {
     "ename": "KeyError",
     "evalue": "'xyz'",
     "output_type": "error",
     "traceback": [
      "\u001b[0;31m---------------------------------------------------------------------------\u001b[0m",
      "\u001b[0;31mKeyError\u001b[0m                                  Traceback (most recent call last)",
      "\u001b[0;32m<ipython-input-8-2f7cc52d87be>\u001b[0m in \u001b[0;36m<module>\u001b[0;34m()\u001b[0m\n\u001b[0;32m----> 1\u001b[0;31m \u001b[0md\u001b[0m\u001b[0;34m[\u001b[0m\u001b[0;34m'xyz'\u001b[0m\u001b[0;34m]\u001b[0m\u001b[0;34m\u001b[0m\u001b[0m\n\u001b[0m",
      "\u001b[0;31mKeyError\u001b[0m: 'xyz'"
     ]
    }
   ],
   "source": [
    "# d['xyz']"
   ]
  },
  {
   "cell_type": "markdown",
   "metadata": {
    "deletable": true,
    "editable": true
   },
   "source": [
    "__Exercise 6)__"
   ]
  },
  {
   "cell_type": "code",
   "execution_count": 9,
   "metadata": {
    "collapsed": false,
    "deletable": true,
    "editable": true
   },
   "outputs": [
    {
     "data": {
      "text/plain": [
       "{'baz': 123}"
      ]
     },
     "execution_count": 9,
     "metadata": {},
     "output_type": "execute_result"
    }
   ],
   "source": [
    "del d['foo']\n",
    "d"
   ]
  },
  {
   "cell_type": "markdown",
   "metadata": {
    "deletable": true,
    "editable": true
   },
   "source": [
    "__Exercise 7)__"
   ]
  },
  {
   "cell_type": "code",
   "execution_count": 10,
   "metadata": {
    "collapsed": false,
    "deletable": true,
    "editable": true
   },
   "outputs": [
    {
     "name": "stdout",
     "output_type": "stream",
     "text": [
      "{1: 'some entry', 'foo': 'something new', 'bar': 456}\n",
      "{1: 'some entry', 'foo': 'something new'}\n"
     ]
    }
   ],
   "source": [
    "d1 = {'foo': 123, 'bar': 456}\n",
    "d2 = {1: 'some entry', 'foo': 'something new'}\n",
    "d1.update(d2)\n",
    "print d1\n",
    "print d2"
   ]
  },
  {
   "cell_type": "code",
   "execution_count": 11,
   "metadata": {
    "collapsed": true,
    "deletable": true,
    "editable": true
   },
   "outputs": [],
   "source": [
    "# added entries from d2 to d1, updated entries in d1 if existing in d2\n",
    "# useful e.g. for cases like default tagger fallback -> can create a default dict that can be updated with more sophisticated tagger"
   ]
  },
  {
   "cell_type": "markdown",
   "metadata": {
    "deletable": true,
    "editable": true
   },
   "source": [
    "__Exercise 8)__"
   ]
  },
  {
   "cell_type": "code",
   "execution_count": 12,
   "metadata": {
    "collapsed": true,
    "deletable": true,
    "editable": true
   },
   "outputs": [],
   "source": [
    "e = {'headword': 'piano', 'part-of-speech': 'NOUN', 'sense': 'a musical instrument with keys', 'example': 'She like to play pieces by Mozart on her piano.'}"
   ]
  },
  {
   "cell_type": "markdown",
   "metadata": {
    "deletable": true,
    "editable": true
   },
   "source": [
    "__Exercise 9)__"
   ]
  },
  {
   "cell_type": "code",
   "execution_count": 13,
   "metadata": {
    "collapsed": false,
    "deletable": true,
    "editable": true
   },
   "outputs": [
    {
     "name": "stdout",
     "output_type": "stream",
     "text": [
      "Displaying 25 of 626 matches:\n",
      "struction bonds . The bond issue will go to the state courts for a friendly te\n",
      "ress text still had `` quite a way to go '' toward completion . Decisions are \n",
      " replied , `` I would say it's got to go thru several more drafts '' . Salinge\n",
      "ause the levy is already scheduled to go up by 1 per cent on that date to pay \n",
      "irst year , 1963 . Both figures would go higher in later years . Other parts o\n",
      "lion dollars the first year and would go up to 21 millions by 1966 . The Presi\n",
      "said yesterday he would be willing to go before the city council `` or anyone \n",
      "red would know what to do or where to go in the event of an enemy attack . The\n",
      "e another . Riverside residents would go to the Seekonk assembly point . Mr. H\n",
      "nk E. Smith as the one most likely to go , the redistricting battle will put t\n",
      "e battle . Then he could tell them to go home , while the administration conti\n",
      "pinion as to how far the board should go , and whose advice it should follow .\n",
      "n to where the parents wanted them to go . Dr. Melvin W. Barnes , superintende\n",
      "ay night in Salem . On Friday he will go to Portland for the swearing in of De\n",
      "`` Then we'd really have someplace to go '' . Bowie , Md. , March 17 -- Gainin\n",
      "`` Spahnie doesn't know how to merely go through the motions '' , remarked Eno\n",
      "Slocum Memorial Award . To Spahn will go the Sid Mercer Memorial Award as the \n",
      "ds . The writers' Gold Tee Award will go to John McAuliffe of Plainfield , N. \n",
      "ever , Mr. Parichy and his bride will go to Vero Beach on their wedding trip ,\n",
      "ncy '' . No matter how many Americans go abroad in summer , probably a hundred\n",
      ", service and comfort stations ( they go together like Scots and heather ) , d\n",
      "Werner said , was let manual laborers go home Tuesday night for some rest . Wo\n",
      "t destroyers . It could , reputedly , go 70,000 miles without refueling and st\n",
      "dinator of audio-visual education may go to the state Supreme Court , it appea\n",
      " therefore knew them . It was time to go up myself '' . Fiedler was then techn\n"
     ]
    }
   ],
   "source": [
    "from nltk.text import Text\n",
    "Text(brown.words()).concordance('go')"
   ]
  },
  {
   "cell_type": "code",
   "execution_count": 14,
   "metadata": {
    "collapsed": false,
    "deletable": true,
    "editable": true
   },
   "outputs": [
    {
     "name": "stdout",
     "output_type": "stream",
     "text": [
      "Displaying 25 of 507 matches:\n",
      "ade good his promise . `` Everything went real smooth '' , the sheriff said . \n",
      "axation . Under committee rules , it went automatically to a subcommittee for \n",
      "e . And after several correspondents went into Pathet Lao territory and expose\n",
      "the Kansas City scoring in the sixth went like this : Lumpe worked a walk as t\n",
      "his season to 13 straight before one went astray last Saturday night in the 41\n",
      "nd caught one pass for 13 yards . He went into the Army in March , 1957 , and \n",
      "m Monday , ran for 30 minutes , then went in , while the reserves scrimmaged f\n",
      "tchie of the Ogden Standard Examiner went to his compartment to talk with him \n",
      "pped into his second shot . The ball went off in a majestic arc , an out-of-bo\n",
      " rare sense of humor . Everywhere he went in town , people sidled up , gave hi\n",
      "e is where a man was born , reared , went to school and , most particularly , \n",
      " off for good behavior . He promptly went to communist East Germany . The magi\n",
      "in the Skipjack . With the machinery went a complete design for the hull . The\n",
      "issile submarines '' , the statement went on . The atom reactor , water cooled\n",
      "e this account : Thomas early Sunday went to the home of his uncle and aunt , \n",
      "sheep showman contest . Blue ribbons went to Stephanie Shaw of Hillsboro , Lar\n",
      "nks . Swine showmanship championship went to Bob Day , with Tom Day and Hutchi\n",
      "d on the jury . Then , when the case went to the jury , the judge excused one \n",
      "streamer of dust it landed . Fiedler went on to make several other test flight\n",
      "inals . Second grand prize of $5,000 went to Mrs. Clara L. Oliver for her Hawa\n",
      "Last two to be added before the book went to press were the marriages of Mered\n",
      " next year's television shows . So I went to see `` La Dolce Vita '' . It has \n",
      "ou have language problems . The week went along briskly enough . I bought a ne\n",
      "eaded up one of the four groups that went on simultaneous tours after the Gall\n",
      "tings and sculptures to each group , went one of the Gallery's blue-uniformed \n"
     ]
    }
   ],
   "source": [
    "Text(brown.words()).concordance('went')"
   ]
  },
  {
   "cell_type": "code",
   "execution_count": 15,
   "metadata": {
    "collapsed": true,
    "deletable": true,
    "editable": true
   },
   "outputs": [],
   "source": [
    "# 'go' appears after 'to', 'would', 'will', 'may' where 'went' cannot appear\n",
    "# both can appear after pronouns/nouns"
   ]
  },
  {
   "cell_type": "markdown",
   "metadata": {
    "deletable": true,
    "editable": true
   },
   "source": [
    "__Exercise 10)__"
   ]
  },
  {
   "cell_type": "code",
   "execution_count": 16,
   "metadata": {
    "collapsed": false,
    "deletable": true,
    "editable": true
   },
   "outputs": [
    {
     "data": {
      "text/plain": [
       "[('Villa', u'NP'),\n",
       " ('Park', u'NN-TL'),\n",
       " ('is', u'BEZ'),\n",
       " ('an', u'AT'),\n",
       " ('association', u'NN'),\n",
       " ('football', u'NN'),\n",
       " ('stadium', u'NN'),\n",
       " ('in', u'IN'),\n",
       " ('Aston', None),\n",
       " (',', u','),\n",
       " ('Birmingham', u'NP'),\n",
       " (',', u','),\n",
       " ('England', u'NP'),\n",
       " (',', u','),\n",
       " ('with', u'IN'),\n",
       " ('a', u'AT'),\n",
       " ('seating', u'VBG'),\n",
       " ('capacity', u'NN'),\n",
       " ('of', u'IN'),\n",
       " ('42,682', None),\n",
       " ('.', u'.'),\n",
       " ('Formerly', u'RB'),\n",
       " ('a', u'AT'),\n",
       " ('sports', u'NNS'),\n",
       " ('ground', u'NN'),\n",
       " ('in', u'IN'),\n",
       " ('a', u'AT'),\n",
       " ('Victorian', u'JJ'),\n",
       " ('amusement', u'NN'),\n",
       " ('park', u'NN'),\n",
       " (',', u','),\n",
       " ('it', u'PPS'),\n",
       " ('has', u'HVZ'),\n",
       " ('been', u'BEN'),\n",
       " ('the', u'AT'),\n",
       " ('home', u'NR'),\n",
       " ('of', u'IN'),\n",
       " ('Aston', None),\n",
       " ('Villa', u'NP'),\n",
       " ('Football', u'NN-TL'),\n",
       " ('Club', u'NN-TL'),\n",
       " ('since', u'CS'),\n",
       " ('17', u'CD'),\n",
       " ('April', u'NP'),\n",
       " ('1897', u'CD'),\n",
       " ('.', u'.')]"
      ]
     },
     "execution_count": 16,
     "metadata": {},
     "output_type": "execute_result"
    }
   ],
   "source": [
    "brown_tagged_sents = brown.tagged_sents()\n",
    "unigram_tagger = nltk.UnigramTagger(brown_tagged_sents)\n",
    "unigram_tagger.tag(nltk.word_tokenize('Villa Park is an association football stadium in Aston, Birmingham, England, with a seating capacity of 42,682. Formerly a sports ground in a Victorian amusement park, it has been the home of Aston Villa Football Club since 17 April 1897.'))"
   ]
  },
  {
   "cell_type": "code",
   "execution_count": 17,
   "metadata": {
    "collapsed": true,
    "deletable": true,
    "editable": true
   },
   "outputs": [],
   "source": [
    "# cannot tag words that it has not seen during training"
   ]
  },
  {
   "cell_type": "markdown",
   "metadata": {
    "deletable": true,
    "editable": true
   },
   "source": [
    "__Exercise 11)__"
   ]
  },
  {
   "cell_type": "code",
   "execution_count": 18,
   "metadata": {
    "collapsed": false,
    "deletable": true,
    "editable": true
   },
   "outputs": [
    {
     "name": "stdout",
     "output_type": "stream",
     "text": [
      "Help on class AffixTagger in module nltk.tag.sequential:\n",
      "\n",
      "class AffixTagger(ContextTagger)\n",
      " |  A tagger that chooses a token's tag based on a leading or trailing\n",
      " |  substring of its word string.  (It is important to note that these\n",
      " |  substrings are not necessarily \"true\" morphological affixes).  In\n",
      " |  particular, a fixed-length substring of the word is looked up in a\n",
      " |  table, and the corresponding tag is returned.  Affix taggers are\n",
      " |  typically constructed by training them on a tagged corpus.\n",
      " |  \n",
      " |  Construct a new affix tagger.\n",
      " |  \n",
      " |  :param affix_length: The length of the affixes that should be\n",
      " |      considered during training and tagging.  Use negative\n",
      " |      numbers for suffixes.\n",
      " |  :param min_stem_length: Any words whose length is less than\n",
      " |      min_stem_length+abs(affix_length) will be assigned a\n",
      " |      tag of None by this tagger.\n",
      " |  \n",
      " |  Method resolution order:\n",
      " |      AffixTagger\n",
      " |      ContextTagger\n",
      " |      SequentialBackoffTagger\n",
      " |      nltk.tag.api.TaggerI\n",
      " |      __builtin__.object\n",
      " |  \n",
      " |  Methods defined here:\n",
      " |  \n",
      " |  __init__(self, train=None, model=None, affix_length=-3, min_stem_length=2, backoff=None, cutoff=0, verbose=False)\n",
      " |  \n",
      " |  context(self, tokens, index, history)\n",
      " |  \n",
      " |  encode_json_obj(self)\n",
      " |  \n",
      " |  ----------------------------------------------------------------------\n",
      " |  Class methods defined here:\n",
      " |  \n",
      " |  decode_json_obj(cls, obj) from __builtin__.type\n",
      " |  \n",
      " |  ----------------------------------------------------------------------\n",
      " |  Data and other attributes defined here:\n",
      " |  \n",
      " |  json_tag = u'nltk.tag.sequential.AffixTagger'\n",
      " |  \n",
      " |  ----------------------------------------------------------------------\n",
      " |  Methods inherited from ContextTagger:\n",
      " |  \n",
      " |  __repr__(self)\n",
      " |  \n",
      " |  __str__(self)\n",
      " |      x.__str__() <==> str(x)\n",
      " |  \n",
      " |  __unicode__ = __str__(...)\n",
      " |      x.__str__() <==> str(x)\n",
      " |  \n",
      " |  choose_tag(self, tokens, index, history)\n",
      " |  \n",
      " |  size(self)\n",
      " |      :return: The number of entries in the table used by this\n",
      " |          tagger to map from contexts to tags.\n",
      " |  \n",
      " |  unicode_repr = __repr__(self)\n",
      " |  \n",
      " |  ----------------------------------------------------------------------\n",
      " |  Methods inherited from SequentialBackoffTagger:\n",
      " |  \n",
      " |  tag(self, tokens)\n",
      " |  \n",
      " |  tag_one(self, tokens, index, history)\n",
      " |      Determine an appropriate tag for the specified token, and\n",
      " |      return that tag.  If this tagger is unable to determine a tag\n",
      " |      for the specified token, then its backoff tagger is consulted.\n",
      " |      \n",
      " |      :rtype: str\n",
      " |      :type tokens: list\n",
      " |      :param tokens: The list of words that are being tagged.\n",
      " |      :type index: int\n",
      " |      :param index: The index of the word whose tag should be\n",
      " |          returned.\n",
      " |      :type history: list(str)\n",
      " |      :param history: A list of the tags for all words before *index*.\n",
      " |  \n",
      " |  ----------------------------------------------------------------------\n",
      " |  Data descriptors inherited from SequentialBackoffTagger:\n",
      " |  \n",
      " |  backoff\n",
      " |      The backoff tagger for this tagger.\n",
      " |  \n",
      " |  ----------------------------------------------------------------------\n",
      " |  Methods inherited from nltk.tag.api.TaggerI:\n",
      " |  \n",
      " |  evaluate(self, gold)\n",
      " |      Score the accuracy of the tagger against the gold standard.\n",
      " |      Strip the tags from the gold standard text, retag it using\n",
      " |      the tagger, then compute the accuracy score.\n",
      " |      \n",
      " |      :type gold: list(list(tuple(str, str)))\n",
      " |      :param gold: The list of tagged sentences to score the tagger on.\n",
      " |      :rtype: float\n",
      " |  \n",
      " |  tag_sents(self, sentences)\n",
      " |      Apply ``self.tag()`` to each element of *sentences*.  I.e.:\n",
      " |      \n",
      " |          return [self.tag(sent) for sent in sentences]\n",
      " |  \n",
      " |  ----------------------------------------------------------------------\n",
      " |  Data descriptors inherited from nltk.tag.api.TaggerI:\n",
      " |  \n",
      " |  __dict__\n",
      " |      dictionary for instance variables (if defined)\n",
      " |  \n",
      " |  __weakref__\n",
      " |      list of weak references to the object (if defined)\n",
      "\n"
     ]
    }
   ],
   "source": [
    "help(nltk.AffixTagger)"
   ]
  },
  {
   "cell_type": "code",
   "execution_count": 19,
   "metadata": {
    "collapsed": false,
    "deletable": true,
    "editable": true
   },
   "outputs": [
    {
     "data": {
      "text/plain": [
       "[('The', None),\n",
       " ('Road', u'NN-TL'),\n",
       " ('to', None),\n",
       " ('Emmaus', u'NP'),\n",
       " ('appearance', u'NN'),\n",
       " ('is', None),\n",
       " ('one', None),\n",
       " ('of', None),\n",
       " ('the', None),\n",
       " ('early', u'JJ'),\n",
       " ('resurrection', u'NN'),\n",
       " ('appearances', u'NN'),\n",
       " ('of', None),\n",
       " ('Jesus', u'NP'),\n",
       " ('after', u'IN'),\n",
       " ('his', None),\n",
       " ('crucifixion', u'JJ'),\n",
       " ('and', None),\n",
       " ('the', None),\n",
       " ('discovery', u'NN'),\n",
       " ('of', None),\n",
       " ('the', None),\n",
       " ('empty', u'NN'),\n",
       " ('tomb', u'NR'),\n",
       " ('.', None),\n",
       " ('Both', u'ABX'),\n",
       " ('the', None),\n",
       " ('Meeting', u'NP'),\n",
       " ('on', None),\n",
       " ('the', None),\n",
       " ('road', u'NN'),\n",
       " ('to', None),\n",
       " ('Emmaus', u'NP'),\n",
       " ('and', None),\n",
       " ('the', None),\n",
       " ('subsequent', u'NN'),\n",
       " ('Supper', u'JJ-TL'),\n",
       " ('at', None),\n",
       " ('Emmaus', u'NP'),\n",
       " (',', None),\n",
       " ('depicting', u'NN'),\n",
       " ('the', None),\n",
       " ('meal', u'NN'),\n",
       " ('that', u'CS'),\n",
       " ('Jesus', u'NP'),\n",
       " ('had', None),\n",
       " ('with', u'IN'),\n",
       " ('two', None),\n",
       " ('disciples', u'NN'),\n",
       " ('after', u'IN'),\n",
       " ('the', None),\n",
       " ('encounter', u'VB'),\n",
       " ('on', None),\n",
       " ('the', None),\n",
       " ('road', u'NN'),\n",
       " (',', None),\n",
       " ('have', u'HV'),\n",
       " ('been', u'BEN'),\n",
       " ('popular', u'NN'),\n",
       " ('subjects', u'NN'),\n",
       " ('in', None),\n",
       " ('art', None),\n",
       " ('.', None)]"
      ]
     },
     "execution_count": 19,
     "metadata": {},
     "output_type": "execute_result"
    }
   ],
   "source": [
    "affix_tagger = nltk.AffixTagger(brown_tagged_sents, affix_length=3, min_stem_length=1)\n",
    "affix_tagger.tag(nltk.word_tokenize('The Road to Emmaus appearance is one of the early resurrection appearances of Jesus after his crucifixion and the discovery of the empty tomb. Both the Meeting on the road to Emmaus and the subsequent Supper at Emmaus, depicting the meal that Jesus had with two disciples after the encounter on the road, have been popular subjects in art.'))"
   ]
  },
  {
   "cell_type": "code",
   "execution_count": 20,
   "metadata": {
    "collapsed": false,
    "deletable": true,
    "editable": true
   },
   "outputs": [
    {
     "data": {
      "text/plain": [
       "[('The', u'AT'),\n",
       " ('Road', u'NP'),\n",
       " ('to', u'TO'),\n",
       " ('Emmaus', u'NN-TL'),\n",
       " ('appearance', u'NN'),\n",
       " ('is', u'BEZ'),\n",
       " ('one', u'IN'),\n",
       " ('of', u'IN'),\n",
       " ('the', u'AT'),\n",
       " ('early', u'DT'),\n",
       " ('resurrection', u'NN'),\n",
       " ('appearances', u'NN'),\n",
       " ('of', u'IN'),\n",
       " ('Jesus', u'NP'),\n",
       " ('after', u'IN'),\n",
       " ('his', u'PP$'),\n",
       " ('crucifixion', u'NN'),\n",
       " ('and', u'CC'),\n",
       " ('the', u'AT'),\n",
       " ('discovery', u'NN'),\n",
       " ('of', u'IN'),\n",
       " ('the', u'AT'),\n",
       " ('empty', u'NN'),\n",
       " ('tomb', u'TO'),\n",
       " ('.', None),\n",
       " ('Both', u'NP'),\n",
       " ('the', u'AT'),\n",
       " ('Meeting', u'NP'),\n",
       " ('on', u'IN'),\n",
       " ('the', u'AT'),\n",
       " ('road', u'NN'),\n",
       " ('to', u'TO'),\n",
       " ('Emmaus', u'NN-TL'),\n",
       " ('and', u'CC'),\n",
       " ('the', u'AT'),\n",
       " ('subsequent', u'JJ'),\n",
       " ('Supper', u'NP'),\n",
       " ('at', u'IN'),\n",
       " ('Emmaus', u'NN-TL'),\n",
       " (',', None),\n",
       " ('depicting', u'NN'),\n",
       " ('the', u'AT'),\n",
       " ('meal', u'NNS'),\n",
       " ('that', u'AT'),\n",
       " ('Jesus', u'NP'),\n",
       " ('had', u'HVD'),\n",
       " ('with', u'IN'),\n",
       " ('two', u'CD'),\n",
       " ('disciples', u'NN'),\n",
       " ('after', u'IN'),\n",
       " ('the', u'AT'),\n",
       " ('encounter', u'NN'),\n",
       " ('on', u'IN'),\n",
       " ('the', u'AT'),\n",
       " ('road', u'NN'),\n",
       " (',', None),\n",
       " ('have', u'HVD'),\n",
       " ('been', u'BE'),\n",
       " ('popular', u'NN'),\n",
       " ('subjects', u'JJ'),\n",
       " ('in', u'IN'),\n",
       " ('art', u'BER'),\n",
       " ('.', None)]"
      ]
     },
     "execution_count": 20,
     "metadata": {},
     "output_type": "execute_result"
    }
   ],
   "source": [
    "# does well on nouns with typical endings\n",
    "affix_tagger = nltk.AffixTagger(brown_tagged_sents, affix_length=2, min_stem_length=0)\n",
    "affix_tagger.tag(nltk.word_tokenize('The Road to Emmaus appearance is one of the early resurrection appearances of Jesus after his crucifixion and the discovery of the empty tomb. Both the Meeting on the road to Emmaus and the subsequent Supper at Emmaus, depicting the meal that Jesus had with two disciples after the encounter on the road, have been popular subjects in art.'))"
   ]
  },
  {
   "cell_type": "markdown",
   "metadata": {
    "deletable": true,
    "editable": true
   },
   "source": [
    "__Exercise 12)__"
   ]
  },
  {
   "cell_type": "code",
   "execution_count": 21,
   "metadata": {
    "collapsed": false,
    "deletable": true,
    "editable": true
   },
   "outputs": [],
   "source": [
    "bigram_tagger = nltk.BigramTagger(brown_tagged_sents)"
   ]
  },
  {
   "cell_type": "code",
   "execution_count": 22,
   "metadata": {
    "collapsed": false
   },
   "outputs": [
    {
     "data": {
      "text/plain": [
       "[(u'The', u'AT'),\n",
       " (u'Fulton', u'NP-TL'),\n",
       " (u'County', u'NN-TL'),\n",
       " (u'Grand', u'JJ-TL'),\n",
       " (u'Jury', u'NN-TL'),\n",
       " (u'said', u'VBD'),\n",
       " (u'Friday', u'NR'),\n",
       " (u'an', u'AT'),\n",
       " (u'investigation', u'NN'),\n",
       " (u'of', u'IN'),\n",
       " (u\"Atlanta's\", u'NP$'),\n",
       " (u'recent', u'JJ'),\n",
       " (u'primary', u'NN'),\n",
       " (u'election', u'NN'),\n",
       " (u'produced', u'VBN'),\n",
       " (u'``', u'``'),\n",
       " (u'no', u'AT'),\n",
       " (u'evidence', u'NN'),\n",
       " (u\"''\", u\"''\"),\n",
       " (u'that', u'WPS'),\n",
       " (u'any', None),\n",
       " (u'irregularities', None),\n",
       " (u'took', None),\n",
       " (u'place', None),\n",
       " (u'.', None)]"
      ]
     },
     "execution_count": 22,
     "metadata": {},
     "output_type": "execute_result"
    }
   ],
   "source": [
    "bigram_tagger.tag(brown.sents()[0])"
   ]
  },
  {
   "cell_type": "code",
   "execution_count": 23,
   "metadata": {
    "collapsed": false
   },
   "outputs": [
    {
     "data": {
      "text/plain": [
       "[('The', u'AT'),\n",
       " ('Road', None),\n",
       " ('to', None),\n",
       " ('Emmaus', None),\n",
       " ('appearance', None),\n",
       " ('is', None),\n",
       " ('one', None),\n",
       " ('of', None),\n",
       " ('the', None),\n",
       " ('early', None),\n",
       " ('resurrection', None),\n",
       " ('appearances', None),\n",
       " ('of', None),\n",
       " ('Jesus', None),\n",
       " ('after', None),\n",
       " ('his', None),\n",
       " ('crucifixion', None),\n",
       " ('and', None),\n",
       " ('the', None),\n",
       " ('discovery', None),\n",
       " ('of', None),\n",
       " ('the', None),\n",
       " ('empty', None),\n",
       " ('tomb', None),\n",
       " ('.', None),\n",
       " ('Both', None),\n",
       " ('the', None),\n",
       " ('Meeting', None),\n",
       " ('on', None),\n",
       " ('the', None),\n",
       " ('road', None),\n",
       " ('to', None),\n",
       " ('Emmaus', None),\n",
       " ('and', None),\n",
       " ('the', None),\n",
       " ('subsequent', None),\n",
       " ('Supper', None),\n",
       " ('at', None),\n",
       " ('Emmaus', None),\n",
       " (',', None),\n",
       " ('depicting', None),\n",
       " ('the', None),\n",
       " ('meal', None),\n",
       " ('that', None),\n",
       " ('Jesus', None),\n",
       " ('had', None),\n",
       " ('with', None),\n",
       " ('two', None),\n",
       " ('disciples', None),\n",
       " ('after', None),\n",
       " ('the', None),\n",
       " ('encounter', None),\n",
       " ('on', None),\n",
       " ('the', None),\n",
       " ('road', None),\n",
       " (',', None),\n",
       " ('have', None),\n",
       " ('been', None),\n",
       " ('popular', None),\n",
       " ('subjects', None),\n",
       " ('in', None),\n",
       " ('art', None),\n",
       " ('.', None)]"
      ]
     },
     "execution_count": 23,
     "metadata": {},
     "output_type": "execute_result"
    }
   ],
   "source": [
    "bigram_tagger.tag(nltk.word_tokenize('The Road to Emmaus appearance is one of the early resurrection appearances of Jesus after his crucifixion and the discovery of the empty tomb. Both the Meeting on the road to Emmaus and the subsequent Supper at Emmaus, depicting the meal that Jesus had with two disciples after the encounter on the road, have been popular subjects in art.'))"
   ]
  },
  {
   "cell_type": "code",
   "execution_count": 24,
   "metadata": {
    "collapsed": true
   },
   "outputs": [],
   "source": [
    "# performs very badly on unseen data -> once it sees 'None' tag, cannot tag the rest because in training it hasn't seen bigrams with 'None'"
   ]
  },
  {
   "cell_type": "markdown",
   "metadata": {},
   "source": [
    "__Exercise 13)__"
   ]
  },
  {
   "cell_type": "code",
   "execution_count": 28,
   "metadata": {
    "collapsed": false
   },
   "outputs": [
    {
     "name": "stdout",
     "output_type": "stream",
     "text": [
      "22 of April, 2017.\n",
      "04/22/2017\n"
     ]
    }
   ],
   "source": [
    "date_dict = {'day': '22', 'month': 'April', 'month_num': '04', 'year': '2017'}\n",
    "print '{day} of {month}, {year}.'.format(**date_dict)\n",
    "print '{month_num}/{day}/{year}'.format(**date_dict)"
   ]
  },
  {
   "cell_type": "markdown",
   "metadata": {},
   "source": [
    "__Exercise 14)__"
   ]
  },
  {
   "cell_type": "code",
   "execution_count": 64,
   "metadata": {
    "collapsed": false
   },
   "outputs": [
    {
     "data": {
      "text/plain": [
       "[u\"''\",\n",
       " u',',\n",
       " u'.',\n",
       " u'AT',\n",
       " u'BEZ',\n",
       " u'CS',\n",
       " u'IN',\n",
       " u'JJ',\n",
       " u'NN',\n",
       " u'NN-TL',\n",
       " u'NNS',\n",
       " u'VBD',\n",
       " u'VBG',\n",
       " u'VBG-TL',\n",
       " u'VBN',\n",
       " u'``']"
      ]
     },
     "execution_count": 64,
     "metadata": {},
     "output_type": "execute_result"
    }
   ],
   "source": [
    "# something wrong here...\n",
    "sorted(set([tag for (word, tag) in sent for sent in brown_tagged_sents[:100]]))"
   ]
  },
  {
   "cell_type": "markdown",
   "metadata": {},
   "source": [
    "__Exercis 15)__"
   ]
  },
  {
   "cell_type": "code",
   "execution_count": null,
   "metadata": {
    "collapsed": true
   },
   "outputs": [],
   "source": []
  }
 ],
 "metadata": {
  "kernelspec": {
   "display_name": "Python 2",
   "language": "python",
   "name": "python2"
  },
  "language_info": {
   "codemirror_mode": {
    "name": "ipython",
    "version": 2
   },
   "file_extension": ".py",
   "mimetype": "text/x-python",
   "name": "python",
   "nbconvert_exporter": "python",
   "pygments_lexer": "ipython2",
   "version": "2.7.12"
  }
 },
 "nbformat": 4,
 "nbformat_minor": 2
}
