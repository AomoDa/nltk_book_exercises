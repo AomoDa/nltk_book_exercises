{
 "cells": [
  {
   "cell_type": "markdown",
   "metadata": {},
   "source": [
    "__Exercise 1)__"
   ]
  },
  {
   "cell_type": "code",
   "execution_count": 1,
   "metadata": {
    "collapsed": true
   },
   "outputs": [],
   "source": [
    "#EYE DROPS OFF SHELF\n",
    "# Correct: Eye(Noun) Drops(Noun Plural) off(Preposition) shelf(Noun)\n",
    "# Misinterpretation: Eye(Noun) Drops(Verb) off(Preporsition) shelf(Noun)"
   ]
  },
  {
   "cell_type": "markdown",
   "metadata": {},
   "source": [
    "__Exercise 2)__"
   ]
  },
  {
   "cell_type": "code",
   "execution_count": 4,
   "metadata": {
    "collapsed": false
   },
   "outputs": [
    {
     "name": "stdout",
     "output_type": "stream",
     "text": [
      "[u'VERB', u'NOUN']\n",
      "2\n",
      "22\n"
     ]
    }
   ],
   "source": [
    "import nltk\n",
    "from nltk.corpus import brown\n",
    "brown_tagged = brown.tagged_words(tagset='universal')\n",
    "# word: contest, guess: noun\n",
    "tag_fd = nltk.FreqDist(tag for (word, tag) in brown_tagged if word == 'contest')\n",
    "print tag_fd.keys()\n",
    "print tag_fd['VERB']\n",
    "print tag_fd['NOUN']"
   ]
  },
  {
   "cell_type": "code",
   "execution_count": 5,
   "metadata": {
    "collapsed": false
   },
   "outputs": [
    {
     "name": "stdout",
     "output_type": "stream",
     "text": [
      "[u'VERB', u'NOUN']\n",
      "109\n",
      "88\n"
     ]
    }
   ],
   "source": [
    "# word: play, guess: verb\n",
    "tag_fd = nltk.FreqDist(tag for (word, tag) in brown_tagged if word == 'play')\n",
    "print tag_fd.keys()\n",
    "print tag_fd['VERB']\n",
    "print tag_fd['NOUN']"
   ]
  },
  {
   "cell_type": "markdown",
   "metadata": {},
   "source": [
    "__Exercise 3)__"
   ]
  },
  {
   "cell_type": "code",
   "execution_count": 6,
   "metadata": {
    "collapsed": true
   },
   "outputs": [],
   "source": [
    "# (They, PRON) (wind, VERB) (back, ADP) (the, DET) (clock, NOUN)\n",
    "# (while, CONJ) (we, PRON) (chase, VERB) (after, ADP) (the, DET) (wind, NOUN)\n",
    "# => (wind, VERB) vs. (wind, NOUN)"
   ]
  },
  {
   "cell_type": "markdown",
   "metadata": {},
   "source": [
    "__Exercise 4)__"
   ]
  },
  {
   "cell_type": "code",
   "execution_count": null,
   "metadata": {
    "collapsed": true
   },
   "outputs": [],
   "source": []
  }
 ],
 "metadata": {
  "kernelspec": {
   "display_name": "Python 2",
   "language": "python",
   "name": "python2"
  },
  "language_info": {
   "codemirror_mode": {
    "name": "ipython",
    "version": 2
   },
   "file_extension": ".py",
   "mimetype": "text/x-python",
   "name": "python",
   "nbconvert_exporter": "python",
   "pygments_lexer": "ipython2",
   "version": "2.7.12"
  }
 },
 "nbformat": 4,
 "nbformat_minor": 2
}
